{
 "cells": [
  {
   "cell_type": "markdown",
   "metadata": {},
   "source": [
    "### Imports"
   ]
  },
  {
   "cell_type": "code",
   "execution_count": 36,
   "metadata": {},
   "outputs": [],
   "source": [
    "import pandas as pd\n",
    "from sklearn.feature_selection import SelectKBest\n",
    "from sklearn.feature_selection import f_regression\n",
    "from sklearn.model_selection import cross_val_score\n",
    "from sklearn.linear_model import LinearRegression"
   ]
  },
  {
   "cell_type": "markdown",
   "metadata": {},
   "source": [
    "### Merge data"
   ]
  },
  {
   "cell_type": "code",
   "execution_count": 2,
   "metadata": {},
   "outputs": [],
   "source": [
    "# Read the backend_access_data.csv file\n",
    "backend_data = pd.read_csv('backend_access_data.csv')\n",
    "\n",
    "# Read the frontend_access_data.csv file\n",
    "frontend_data = pd.read_csv('frontend_access_data.csv')\n",
    "\n",
    "# Read the metrics.csv file\n",
    "metrics_data = pd.read_csv('metrics.csv')\n",
    "\n",
    "# Merge the backend and frontend data on the \"Request ID\" column\n",
    "merged_data = pd.merge(backend_data, frontend_data, on='Request ID', suffixes=('_backend', '_frontend'))\n",
    "\n",
    "merged_data = pd.merge(merged_data, metrics_data, on='Endpoint', suffixes=('_request', '_metric'))"
   ]
  },
  {
   "cell_type": "markdown",
   "metadata": {},
   "source": [
    "### Feature selection"
   ]
  },
  {
   "cell_type": "code",
   "execution_count": 24,
   "metadata": {},
   "outputs": [],
   "source": [
    "def feature_selection(target_attribute, merged_data, k=5):\n",
    "    # Split the data into input and output\n",
    "    X = merged_data.drop(['CPU Usage', 'Memory Usage', 'Storage Usage', 'Request ID', 'Endpoint'], axis=1)\n",
    "    Y = merged_data[target_attribute]\n",
    "\n",
    "    categorical_columns = ['Query', 'HTTP method', 'Pricing Plan', 'Response Status']\n",
    "    X = pd.get_dummies(X, columns=categorical_columns)\n",
    "\n",
    "    # Feature extraction\n",
    "    test = SelectKBest(score_func=f_regression, k=k)\n",
    "    fit = test.fit(X, Y)\n",
    "\n",
    "    features = fit.transform(X)\n",
    "\n",
    "    # Get column names\n",
    "    feature_names = X.columns\n",
    "\n",
    "    # Get the indices of the features that were selected\n",
    "    selected_features = fit.get_support(indices=True)\n",
    "\n",
    "    # Get the names of the selected features\n",
    "    selected_feature_names = feature_names[selected_features]\n",
    "\n",
    "    return selected_feature_names"
   ]
  },
  {
   "cell_type": "code",
   "execution_count": 26,
   "metadata": {},
   "outputs": [
    {
     "name": "stdout",
     "output_type": "stream",
     "text": [
      "CPU Usage: Index(['Request Time', 'Concurrent requests', 'Query_explore/category/app',\n",
      "       'Query_list/list/blog', 'Query_tags/list/posts'],\n",
      "      dtype='object')\n",
      "Memory Usage: Index(['Request Size', 'Request Time', 'Concurrent requests',\n",
      "       'Query_list/main/tag', 'Query_posts/posts/tags'],\n",
      "      dtype='object')\n",
      "Storage Usage: Index(['Request Size', 'Request Time', 'Concurrent requests',\n",
      "       'Query_app/app/category', 'Query_categories/wp-content/wp-content'],\n",
      "      dtype='object')\n"
     ]
    }
   ],
   "source": [
    "cpu_usage_feature_selection = feature_selection('CPU Usage', merged_data)\n",
    "memory_usage_feature_selection = feature_selection('Memory Usage', merged_data)\n",
    "storage_usage_feature_selection = feature_selection('Storage Usage', merged_data)\n",
    "\n",
    "print('CPU Usage: ' + str(cpu_usage_feature_selection))\n",
    "print('Memory Usage: '+ str(memory_usage_feature_selection))\n",
    "print('Storage Usage: '+ str(storage_usage_feature_selection))"
   ]
  },
  {
   "cell_type": "markdown",
   "metadata": {},
   "source": [
    "### Cross-validation"
   ]
  },
  {
   "cell_type": "code",
   "execution_count": 34,
   "metadata": {},
   "outputs": [],
   "source": [
    "def cross_validation(target_attribute, selected_feature_names, merged_data, cv=5):\n",
    "    # Select the features from the data\n",
    "    X = merged_data\n",
    "    Y = merged_data[target_attribute]\n",
    "\n",
    "    categorical_columns = ['Query', 'HTTP method', 'Pricing Plan', 'Response Status']\n",
    "    X = pd.get_dummies(X, columns=categorical_columns)\n",
    "    \n",
    "    X = X[selected_feature_names]\n",
    "\n",
    "    # Create a Linear Regression model\n",
    "    model = LinearRegression()\n",
    "\n",
    "    # Perform cross-validation\n",
    "    scores = cross_val_score(model, X, Y, cv=cv)\n",
    "\n",
    "    return scores"
   ]
  },
  {
   "cell_type": "code",
   "execution_count": 37,
   "metadata": {},
   "outputs": [
    {
     "name": "stdout",
     "output_type": "stream",
     "text": [
      "CPU Usage: [0.46486129 0.49102994 0.55554582 0.46054855 0.44345558]\n",
      "Memory Usage: [0.38856006 0.3363715  0.31008557 0.37637568 0.29656125]\n",
      "Storage Usage: [0.56927656 0.52915643 0.52375314 0.43347187 0.47070917]\n"
     ]
    }
   ],
   "source": [
    "cpu_usage_cross_validation = cross_validation('CPU Usage', cpu_usage_feature_selection, merged_data)\n",
    "memory_usage_cross_validation = cross_validation('Memory Usage', memory_usage_feature_selection, merged_data)\n",
    "storage_usage_cross_validation = cross_validation('Storage Usage', storage_usage_feature_selection, merged_data)\n",
    "\n",
    "print('CPU Usage: ' + str(cpu_usage_cross_validation))\n",
    "print('Memory Usage: '+ str(memory_usage_cross_validation))\n",
    "print('Storage Usage: '+ str(storage_usage_cross_validation))"
   ]
  }
 ],
 "metadata": {
  "kernelspec": {
   "display_name": "Python 3",
   "language": "python",
   "name": "python3"
  },
  "language_info": {
   "codemirror_mode": {
    "name": "ipython",
    "version": 3
   },
   "file_extension": ".py",
   "mimetype": "text/x-python",
   "name": "python",
   "nbconvert_exporter": "python",
   "pygments_lexer": "ipython3",
   "version": "3.11.9"
  }
 },
 "nbformat": 4,
 "nbformat_minor": 2
}
